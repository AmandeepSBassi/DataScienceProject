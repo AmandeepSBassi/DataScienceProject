{
 "cells": [
  {
   "cell_type": "markdown",
   "metadata": {},
   "source": [
    "Data Modeling and Evaluation"
   ]
  },
  {
   "cell_type": "code",
   "execution_count": 152,
   "metadata": {},
   "outputs": [
    {
     "data": {
      "text/html": [
       "<div>\n",
       "<style scoped>\n",
       "    .dataframe tbody tr th:only-of-type {\n",
       "        vertical-align: middle;\n",
       "    }\n",
       "\n",
       "    .dataframe tbody tr th {\n",
       "        vertical-align: top;\n",
       "    }\n",
       "\n",
       "    .dataframe thead th {\n",
       "        text-align: right;\n",
       "    }\n",
       "</style>\n",
       "<table border=\"1\" class=\"dataframe\">\n",
       "  <thead>\n",
       "    <tr style=\"text-align: right;\">\n",
       "      <th></th>\n",
       "      <th>Order ID</th>\n",
       "      <th>Customer ID</th>\n",
       "      <th>Segment</th>\n",
       "      <th>City</th>\n",
       "      <th>State</th>\n",
       "      <th>Postal Code</th>\n",
       "      <th>Product ID</th>\n",
       "      <th>Category</th>\n",
       "      <th>Sub-Category</th>\n",
       "      <th>Product Name</th>\n",
       "      <th>Sales</th>\n",
       "      <th>Quantity</th>\n",
       "      <th>Discount</th>\n",
       "      <th>Profit</th>\n",
       "    </tr>\n",
       "    <tr>\n",
       "      <th>Row ID</th>\n",
       "      <th></th>\n",
       "      <th></th>\n",
       "      <th></th>\n",
       "      <th></th>\n",
       "      <th></th>\n",
       "      <th></th>\n",
       "      <th></th>\n",
       "      <th></th>\n",
       "      <th></th>\n",
       "      <th></th>\n",
       "      <th></th>\n",
       "      <th></th>\n",
       "      <th></th>\n",
       "      <th></th>\n",
       "    </tr>\n",
       "  </thead>\n",
       "  <tbody>\n",
       "    <tr>\n",
       "      <th>1</th>\n",
       "      <td>CA-2016-152156</td>\n",
       "      <td>CG-12520</td>\n",
       "      <td>Consumer</td>\n",
       "      <td>Henderson</td>\n",
       "      <td>Kentucky</td>\n",
       "      <td>42420</td>\n",
       "      <td>FUR-BO-10001798</td>\n",
       "      <td>Furniture</td>\n",
       "      <td>Bookcases</td>\n",
       "      <td>Bush Somerset Collection Bookcase</td>\n",
       "      <td>0.177190</td>\n",
       "      <td>0.138125</td>\n",
       "      <td>0.000000</td>\n",
       "      <td>0.514147</td>\n",
       "    </tr>\n",
       "    <tr>\n",
       "      <th>2</th>\n",
       "      <td>CA-2016-152156</td>\n",
       "      <td>CG-12520</td>\n",
       "      <td>Consumer</td>\n",
       "      <td>Henderson</td>\n",
       "      <td>Kentucky</td>\n",
       "      <td>42420</td>\n",
       "      <td>FUR-CH-10000454</td>\n",
       "      <td>Furniture</td>\n",
       "      <td>Chairs</td>\n",
       "      <td>Hon Deluxe Fabric Upholstered Stacking Chairs,...</td>\n",
       "      <td>0.495626</td>\n",
       "      <td>0.276251</td>\n",
       "      <td>0.000000</td>\n",
       "      <td>0.703753</td>\n",
       "    </tr>\n",
       "    <tr>\n",
       "      <th>3</th>\n",
       "      <td>CA-2016-138688</td>\n",
       "      <td>DV-13045</td>\n",
       "      <td>Corporate</td>\n",
       "      <td>Los Angeles</td>\n",
       "      <td>California</td>\n",
       "      <td>90036</td>\n",
       "      <td>OFF-LA-10000240</td>\n",
       "      <td>Office Supplies</td>\n",
       "      <td>Labels</td>\n",
       "      <td>Self-Adhesive Address Labels for Typewriters b...</td>\n",
       "      <td>0.009605</td>\n",
       "      <td>0.138125</td>\n",
       "      <td>0.000000</td>\n",
       "      <td>0.476751</td>\n",
       "    </tr>\n",
       "    <tr>\n",
       "      <th>4</th>\n",
       "      <td>US-2015-108966</td>\n",
       "      <td>SO-20335</td>\n",
       "      <td>Consumer</td>\n",
       "      <td>Fort Lauderdale</td>\n",
       "      <td>Florida</td>\n",
       "      <td>33311</td>\n",
       "      <td>FUR-TA-10000577</td>\n",
       "      <td>Furniture</td>\n",
       "      <td>Tables</td>\n",
       "      <td>Bretford CR4500 Series Slim Rectangular Table</td>\n",
       "      <td>0.648507</td>\n",
       "      <td>0.552502</td>\n",
       "      <td>0.790713</td>\n",
       "      <td>0.060651</td>\n",
       "    </tr>\n",
       "    <tr>\n",
       "      <th>5</th>\n",
       "      <td>US-2015-108966</td>\n",
       "      <td>SO-20335</td>\n",
       "      <td>Consumer</td>\n",
       "      <td>Fort Lauderdale</td>\n",
       "      <td>Florida</td>\n",
       "      <td>33311</td>\n",
       "      <td>OFF-ST-10000760</td>\n",
       "      <td>Office Supplies</td>\n",
       "      <td>Storage</td>\n",
       "      <td>Eldon Fold 'N Roll Cart System</td>\n",
       "      <td>0.014855</td>\n",
       "      <td>0.138125</td>\n",
       "      <td>0.351428</td>\n",
       "      <td>0.472103</td>\n",
       "    </tr>\n",
       "  </tbody>\n",
       "</table>\n",
       "</div>"
      ],
      "text/plain": [
       "              Order ID Customer ID    Segment             City       State  \\\n",
       "Row ID                                                                       \n",
       "1       CA-2016-152156    CG-12520   Consumer        Henderson    Kentucky   \n",
       "2       CA-2016-152156    CG-12520   Consumer        Henderson    Kentucky   \n",
       "3       CA-2016-138688    DV-13045  Corporate      Los Angeles  California   \n",
       "4       US-2015-108966    SO-20335   Consumer  Fort Lauderdale     Florida   \n",
       "5       US-2015-108966    SO-20335   Consumer  Fort Lauderdale     Florida   \n",
       "\n",
       "        Postal Code       Product ID         Category Sub-Category  \\\n",
       "Row ID                                                               \n",
       "1             42420  FUR-BO-10001798        Furniture    Bookcases   \n",
       "2             42420  FUR-CH-10000454        Furniture       Chairs   \n",
       "3             90036  OFF-LA-10000240  Office Supplies       Labels   \n",
       "4             33311  FUR-TA-10000577        Furniture       Tables   \n",
       "5             33311  OFF-ST-10000760  Office Supplies      Storage   \n",
       "\n",
       "                                             Product Name     Sales  Quantity  \\\n",
       "Row ID                                                                          \n",
       "1                       Bush Somerset Collection Bookcase  0.177190  0.138125   \n",
       "2       Hon Deluxe Fabric Upholstered Stacking Chairs,...  0.495626  0.276251   \n",
       "3       Self-Adhesive Address Labels for Typewriters b...  0.009605  0.138125   \n",
       "4           Bretford CR4500 Series Slim Rectangular Table  0.648507  0.552502   \n",
       "5                          Eldon Fold 'N Roll Cart System  0.014855  0.138125   \n",
       "\n",
       "        Discount    Profit  \n",
       "Row ID                      \n",
       "1       0.000000  0.514147  \n",
       "2       0.000000  0.703753  \n",
       "3       0.000000  0.476751  \n",
       "4       0.790713  0.060651  \n",
       "5       0.351428  0.472103  "
      ]
     },
     "execution_count": 152,
     "metadata": {},
     "output_type": "execute_result"
    }
   ],
   "source": [
    "import pandas as pd\n",
    "import numpy as np\n",
    "import matplotlib.pyplot as plt\n",
    "\n",
    "desc_features = ['Sales', 'Quantity', 'Discount', 'Profit']\n",
    "target_feature = 'Category'\n",
    "cat_features = ['Order ID', 'Customer ID', 'Segment', 'City', 'State', 'Postal Code', 'Product ID', 'Sub-Category', 'Product Name']\n",
    "target_levels = []\n",
    "col = pd.read_excel('DataPostProcess.xlsx', nrows=0).columns\n",
    "df = pd.read_excel('DataPostProcess.xlsx', names = col, index_col='Row ID')\n",
    "df.head()\n"
   ]
  },
  {
   "cell_type": "markdown",
   "metadata": {},
   "source": [
    "Testing and Training"
   ]
  },
  {
   "cell_type": "code",
   "execution_count": 153,
   "metadata": {},
   "outputs": [
    {
     "data": {
      "text/html": [
       "<div>\n",
       "<style scoped>\n",
       "    .dataframe tbody tr th:only-of-type {\n",
       "        vertical-align: middle;\n",
       "    }\n",
       "\n",
       "    .dataframe tbody tr th {\n",
       "        vertical-align: top;\n",
       "    }\n",
       "\n",
       "    .dataframe thead th {\n",
       "        text-align: right;\n",
       "    }\n",
       "</style>\n",
       "<table border=\"1\" class=\"dataframe\">\n",
       "  <thead>\n",
       "    <tr style=\"text-align: right;\">\n",
       "      <th></th>\n",
       "      <th>Sales</th>\n",
       "      <th>Quantity</th>\n",
       "      <th>Discount</th>\n",
       "      <th>Profit</th>\n",
       "    </tr>\n",
       "    <tr>\n",
       "      <th>Row ID</th>\n",
       "      <th></th>\n",
       "      <th></th>\n",
       "      <th></th>\n",
       "      <th></th>\n",
       "    </tr>\n",
       "  </thead>\n",
       "  <tbody>\n",
       "    <tr>\n",
       "      <th>9466</th>\n",
       "      <td>0.021354</td>\n",
       "      <td>0.138125</td>\n",
       "      <td>0.000000</td>\n",
       "      <td>0.471123</td>\n",
       "    </tr>\n",
       "    <tr>\n",
       "      <th>5475</th>\n",
       "      <td>0.508323</td>\n",
       "      <td>0.138125</td>\n",
       "      <td>0.000000</td>\n",
       "      <td>0.509474</td>\n",
       "    </tr>\n",
       "    <tr>\n",
       "      <th>3199</th>\n",
       "      <td>0.064722</td>\n",
       "      <td>0.414376</td>\n",
       "      <td>0.351428</td>\n",
       "      <td>0.479659</td>\n",
       "    </tr>\n",
       "    <tr>\n",
       "      <th>8105</th>\n",
       "      <td>0.525294</td>\n",
       "      <td>0.690627</td>\n",
       "      <td>0.351428</td>\n",
       "      <td>0.531506</td>\n",
       "    </tr>\n",
       "    <tr>\n",
       "      <th>856</th>\n",
       "      <td>0.026774</td>\n",
       "      <td>0.138125</td>\n",
       "      <td>0.000000</td>\n",
       "      <td>0.489461</td>\n",
       "    </tr>\n",
       "    <tr>\n",
       "      <th>...</th>\n",
       "      <td>...</td>\n",
       "      <td>...</td>\n",
       "      <td>...</td>\n",
       "      <td>...</td>\n",
       "    </tr>\n",
       "    <tr>\n",
       "      <th>5098</th>\n",
       "      <td>0.002816</td>\n",
       "      <td>0.138125</td>\n",
       "      <td>1.000000</td>\n",
       "      <td>0.460827</td>\n",
       "    </tr>\n",
       "    <tr>\n",
       "      <th>4749</th>\n",
       "      <td>0.023603</td>\n",
       "      <td>0.276251</td>\n",
       "      <td>0.000000</td>\n",
       "      <td>0.482219</td>\n",
       "    </tr>\n",
       "    <tr>\n",
       "      <th>4010</th>\n",
       "      <td>0.321150</td>\n",
       "      <td>1.000000</td>\n",
       "      <td>0.000000</td>\n",
       "      <td>0.682067</td>\n",
       "    </tr>\n",
       "    <tr>\n",
       "      <th>7570</th>\n",
       "      <td>0.032980</td>\n",
       "      <td>0.414376</td>\n",
       "      <td>0.000000</td>\n",
       "      <td>0.494055</td>\n",
       "    </tr>\n",
       "    <tr>\n",
       "      <th>9901</th>\n",
       "      <td>0.160344</td>\n",
       "      <td>0.276251</td>\n",
       "      <td>0.351428</td>\n",
       "      <td>0.491557</td>\n",
       "    </tr>\n",
       "  </tbody>\n",
       "</table>\n",
       "<p>7495 rows × 4 columns</p>\n",
       "</div>"
      ],
      "text/plain": [
       "           Sales  Quantity  Discount    Profit\n",
       "Row ID                                        \n",
       "9466    0.021354  0.138125  0.000000  0.471123\n",
       "5475    0.508323  0.138125  0.000000  0.509474\n",
       "3199    0.064722  0.414376  0.351428  0.479659\n",
       "8105    0.525294  0.690627  0.351428  0.531506\n",
       "856     0.026774  0.138125  0.000000  0.489461\n",
       "...          ...       ...       ...       ...\n",
       "5098    0.002816  0.138125  1.000000  0.460827\n",
       "4749    0.023603  0.276251  0.000000  0.482219\n",
       "4010    0.321150  1.000000  0.000000  0.682067\n",
       "7570    0.032980  0.414376  0.000000  0.494055\n",
       "9901    0.160344  0.276251  0.351428  0.491557\n",
       "\n",
       "[7495 rows x 4 columns]"
      ]
     },
     "metadata": {},
     "output_type": "display_data"
    },
    {
     "data": {
      "text/html": [
       "<div>\n",
       "<style scoped>\n",
       "    .dataframe tbody tr th:only-of-type {\n",
       "        vertical-align: middle;\n",
       "    }\n",
       "\n",
       "    .dataframe tbody tr th {\n",
       "        vertical-align: top;\n",
       "    }\n",
       "\n",
       "    .dataframe thead th {\n",
       "        text-align: right;\n",
       "    }\n",
       "</style>\n",
       "<table border=\"1\" class=\"dataframe\">\n",
       "  <thead>\n",
       "    <tr style=\"text-align: right;\">\n",
       "      <th></th>\n",
       "      <th>Sales</th>\n",
       "      <th>Quantity</th>\n",
       "      <th>Discount</th>\n",
       "      <th>Profit</th>\n",
       "    </tr>\n",
       "    <tr>\n",
       "      <th>Row ID</th>\n",
       "      <th></th>\n",
       "      <th></th>\n",
       "      <th></th>\n",
       "      <th></th>\n",
       "    </tr>\n",
       "  </thead>\n",
       "  <tbody>\n",
       "    <tr>\n",
       "      <th>4986</th>\n",
       "      <td>0.009456</td>\n",
       "      <td>0.552502</td>\n",
       "      <td>0.000000</td>\n",
       "      <td>0.476948</td>\n",
       "    </tr>\n",
       "    <tr>\n",
       "      <th>8329</th>\n",
       "      <td>0.097063</td>\n",
       "      <td>0.276251</td>\n",
       "      <td>0.000000</td>\n",
       "      <td>0.543028</td>\n",
       "    </tr>\n",
       "    <tr>\n",
       "      <th>2546</th>\n",
       "      <td>0.139220</td>\n",
       "      <td>0.414376</td>\n",
       "      <td>0.000000</td>\n",
       "      <td>0.471615</td>\n",
       "    </tr>\n",
       "    <tr>\n",
       "      <th>3549</th>\n",
       "      <td>0.022695</td>\n",
       "      <td>0.000000</td>\n",
       "      <td>0.000000</td>\n",
       "      <td>0.479197</td>\n",
       "    </tr>\n",
       "    <tr>\n",
       "      <th>5035</th>\n",
       "      <td>0.465448</td>\n",
       "      <td>0.552502</td>\n",
       "      <td>0.000000</td>\n",
       "      <td>0.520769</td>\n",
       "    </tr>\n",
       "    <tr>\n",
       "      <th>...</th>\n",
       "      <td>...</td>\n",
       "      <td>...</td>\n",
       "      <td>...</td>\n",
       "      <td>...</td>\n",
       "    </tr>\n",
       "    <tr>\n",
       "      <th>266</th>\n",
       "      <td>0.053835</td>\n",
       "      <td>0.138125</td>\n",
       "      <td>0.000000</td>\n",
       "      <td>0.506936</td>\n",
       "    </tr>\n",
       "    <tr>\n",
       "      <th>9365</th>\n",
       "      <td>0.243157</td>\n",
       "      <td>0.414376</td>\n",
       "      <td>0.000000</td>\n",
       "      <td>0.477087</td>\n",
       "    </tr>\n",
       "    <tr>\n",
       "      <th>2971</th>\n",
       "      <td>0.008692</td>\n",
       "      <td>0.966878</td>\n",
       "      <td>1.000000</td>\n",
       "      <td>0.458087</td>\n",
       "    </tr>\n",
       "    <tr>\n",
       "      <th>1492</th>\n",
       "      <td>0.003683</td>\n",
       "      <td>0.000000</td>\n",
       "      <td>0.000000</td>\n",
       "      <td>0.472492</td>\n",
       "    </tr>\n",
       "    <tr>\n",
       "      <th>5569</th>\n",
       "      <td>0.650137</td>\n",
       "      <td>0.138125</td>\n",
       "      <td>0.351428</td>\n",
       "      <td>0.827987</td>\n",
       "    </tr>\n",
       "  </tbody>\n",
       "</table>\n",
       "<p>2499 rows × 4 columns</p>\n",
       "</div>"
      ],
      "text/plain": [
       "           Sales  Quantity  Discount    Profit\n",
       "Row ID                                        \n",
       "4986    0.009456  0.552502  0.000000  0.476948\n",
       "8329    0.097063  0.276251  0.000000  0.543028\n",
       "2546    0.139220  0.414376  0.000000  0.471615\n",
       "3549    0.022695  0.000000  0.000000  0.479197\n",
       "5035    0.465448  0.552502  0.000000  0.520769\n",
       "...          ...       ...       ...       ...\n",
       "266     0.053835  0.138125  0.000000  0.506936\n",
       "9365    0.243157  0.414376  0.000000  0.477087\n",
       "2971    0.008692  0.966878  1.000000  0.458087\n",
       "1492    0.003683  0.000000  0.000000  0.472492\n",
       "5569    0.650137  0.138125  0.351428  0.827987\n",
       "\n",
       "[2499 rows x 4 columns]"
      ]
     },
     "metadata": {},
     "output_type": "display_data"
    },
    {
     "data": {
      "text/plain": [
       "Row ID\n",
       "9466          Furniture\n",
       "5475    Office Supplies\n",
       "3199         Technology\n",
       "8105         Technology\n",
       "856     Office Supplies\n",
       "             ...       \n",
       "5098    Office Supplies\n",
       "4749          Furniture\n",
       "4010          Furniture\n",
       "7570    Office Supplies\n",
       "9901    Office Supplies\n",
       "Name: Category, Length: 7495, dtype: object"
      ]
     },
     "metadata": {},
     "output_type": "display_data"
    },
    {
     "data": {
      "text/plain": [
       "Row ID\n",
       "4986    Office Supplies\n",
       "8329    Office Supplies\n",
       "2546    Office Supplies\n",
       "3549          Furniture\n",
       "5035          Furniture\n",
       "             ...       \n",
       "266          Technology\n",
       "9365    Office Supplies\n",
       "2971    Office Supplies\n",
       "1492    Office Supplies\n",
       "5569         Technology\n",
       "Name: Category, Length: 2499, dtype: object"
      ]
     },
     "metadata": {},
     "output_type": "display_data"
    }
   ],
   "source": [
    "from sklearn.model_selection import train_test_split\n",
    "X_train, X_test, Y_train, Y_test = train_test_split(df[desc_features], df[target_feature], test_size=0.25)\n",
    "display(X_train, X_test, Y_train, Y_test)"
   ]
  },
  {
   "cell_type": "markdown",
   "metadata": {},
   "source": [
    "Determine if sampling is needed by seeing how much data is each class in our target feature."
   ]
  },
  {
   "cell_type": "code",
   "execution_count": 154,
   "metadata": {},
   "outputs": [
    {
     "data": {
      "text/html": [
       "<div>\n",
       "<style scoped>\n",
       "    .dataframe tbody tr th:only-of-type {\n",
       "        vertical-align: middle;\n",
       "    }\n",
       "\n",
       "    .dataframe tbody tr th {\n",
       "        vertical-align: top;\n",
       "    }\n",
       "\n",
       "    .dataframe thead th {\n",
       "        text-align: right;\n",
       "    }\n",
       "</style>\n",
       "<table border=\"1\" class=\"dataframe\">\n",
       "  <thead>\n",
       "    <tr style=\"text-align: right;\">\n",
       "      <th></th>\n",
       "      <th>Order ID</th>\n",
       "      <th>Customer ID</th>\n",
       "      <th>Segment</th>\n",
       "      <th>City</th>\n",
       "      <th>State</th>\n",
       "      <th>Postal Code</th>\n",
       "      <th>Product ID</th>\n",
       "      <th>Sub-Category</th>\n",
       "      <th>Product Name</th>\n",
       "      <th>Sales</th>\n",
       "      <th>Quantity</th>\n",
       "      <th>Discount</th>\n",
       "      <th>Profit</th>\n",
       "    </tr>\n",
       "    <tr>\n",
       "      <th>Category</th>\n",
       "      <th></th>\n",
       "      <th></th>\n",
       "      <th></th>\n",
       "      <th></th>\n",
       "      <th></th>\n",
       "      <th></th>\n",
       "      <th></th>\n",
       "      <th></th>\n",
       "      <th></th>\n",
       "      <th></th>\n",
       "      <th></th>\n",
       "      <th></th>\n",
       "      <th></th>\n",
       "    </tr>\n",
       "  </thead>\n",
       "  <tbody>\n",
       "    <tr>\n",
       "      <th>Furniture</th>\n",
       "      <td>2121</td>\n",
       "      <td>2121</td>\n",
       "      <td>2121</td>\n",
       "      <td>2121</td>\n",
       "      <td>2121</td>\n",
       "      <td>2121</td>\n",
       "      <td>2121</td>\n",
       "      <td>2121</td>\n",
       "      <td>2121</td>\n",
       "      <td>2121</td>\n",
       "      <td>2121</td>\n",
       "      <td>2121</td>\n",
       "      <td>2121</td>\n",
       "    </tr>\n",
       "    <tr>\n",
       "      <th>Office Supplies</th>\n",
       "      <td>6026</td>\n",
       "      <td>6026</td>\n",
       "      <td>6026</td>\n",
       "      <td>6026</td>\n",
       "      <td>6026</td>\n",
       "      <td>6026</td>\n",
       "      <td>6026</td>\n",
       "      <td>6026</td>\n",
       "      <td>6026</td>\n",
       "      <td>6026</td>\n",
       "      <td>6026</td>\n",
       "      <td>6026</td>\n",
       "      <td>6026</td>\n",
       "    </tr>\n",
       "    <tr>\n",
       "      <th>Technology</th>\n",
       "      <td>1847</td>\n",
       "      <td>1847</td>\n",
       "      <td>1847</td>\n",
       "      <td>1847</td>\n",
       "      <td>1847</td>\n",
       "      <td>1847</td>\n",
       "      <td>1847</td>\n",
       "      <td>1847</td>\n",
       "      <td>1847</td>\n",
       "      <td>1847</td>\n",
       "      <td>1847</td>\n",
       "      <td>1847</td>\n",
       "      <td>1847</td>\n",
       "    </tr>\n",
       "  </tbody>\n",
       "</table>\n",
       "</div>"
      ],
      "text/plain": [
       "                 Order ID  Customer ID  Segment  City  State  Postal Code  \\\n",
       "Category                                                                    \n",
       "Furniture            2121         2121     2121  2121   2121         2121   \n",
       "Office Supplies      6026         6026     6026  6026   6026         6026   \n",
       "Technology           1847         1847     1847  1847   1847         1847   \n",
       "\n",
       "                 Product ID  Sub-Category  Product Name  Sales  Quantity  \\\n",
       "Category                                                                   \n",
       "Furniture              2121          2121          2121   2121      2121   \n",
       "Office Supplies        6026          6026          6026   6026      6026   \n",
       "Technology             1847          1847          1847   1847      1847   \n",
       "\n",
       "                 Discount  Profit  \n",
       "Category                           \n",
       "Furniture            2121    2121  \n",
       "Office Supplies      6026    6026  \n",
       "Technology           1847    1847  "
      ]
     },
     "execution_count": 154,
     "metadata": {},
     "output_type": "execute_result"
    }
   ],
   "source": [
    "df.groupby('Category').count()"
   ]
  },
  {
   "cell_type": "markdown",
   "metadata": {},
   "source": [
    "As there is an uneven distribution in our dataset as Office Supplies are a majority we will be sampling with sklearns class_weight."
   ]
  },
  {
   "cell_type": "markdown",
   "metadata": {},
   "source": [
    "# Evaluation methods: \n",
    "- Information-Based Learning \n",
    "  - Decision Tree\n",
    "- Similarity-Based Learning\n",
    "  - Weighted KNN\n",
    "- Probability-Based Learning\n",
    "  - Guassian Naive Bayes"
   ]
  },
  {
   "cell_type": "code",
   "execution_count": 155,
   "metadata": {},
   "outputs": [],
   "source": [
    "from sklearn.tree import DecisionTreeClassifier\n",
    "from sklearn.neighbors import KNeighborsClassifier\n",
    "from sklearn.naive_bayes import GaussianNB\n",
    "from sklearn.metrics import accuracy_score\n",
    "from sklearn.metrics import confusion_matrix\n",
    "from sklearn.metrics import mean_squared_error, mean_absolute_error"
   ]
  },
  {
   "cell_type": "markdown",
   "metadata": {},
   "source": [
    "# Decision Tree\n",
    "Utilizing the gini criterion as it is computationally less expensive, and roughly the same accuracy as entropy."
   ]
  },
  {
   "cell_type": "code",
   "execution_count": 156,
   "metadata": {},
   "outputs": [
    {
     "data": {
      "text/plain": [
       "<bound method DecisionTreeClassifier.fit of DecisionTreeClassifier(class_weight='balanced', max_depth=13, random_state=0)>"
      ]
     },
     "metadata": {},
     "output_type": "display_data"
    },
    {
     "data": {
      "text/plain": [
       "array(['Office Supplies', 'Office Supplies', 'Office Supplies', ...,\n",
       "       'Office Supplies', 'Office Supplies', 'Technology'], dtype=object)"
      ]
     },
     "metadata": {},
     "output_type": "display_data"
    },
    {
     "name": "stdout",
     "output_type": "stream",
     "text": [
      "Accuracy is\n"
     ]
    },
    {
     "data": {
      "text/plain": [
       "0.6778711484593838"
      ]
     },
     "metadata": {},
     "output_type": "display_data"
    },
    {
     "name": "stdout",
     "output_type": "stream",
     "text": [
      "Error rate is\n"
     ]
    },
    {
     "data": {
      "text/plain": [
       "0.3221288515406162"
      ]
     },
     "metadata": {},
     "output_type": "display_data"
    },
    {
     "data": {
      "text/html": [
       "<div>\n",
       "<style scoped>\n",
       "    .dataframe tbody tr th:only-of-type {\n",
       "        vertical-align: middle;\n",
       "    }\n",
       "\n",
       "    .dataframe tbody tr th {\n",
       "        vertical-align: top;\n",
       "    }\n",
       "\n",
       "    .dataframe thead th {\n",
       "        text-align: right;\n",
       "    }\n",
       "</style>\n",
       "<table border=\"1\" class=\"dataframe\">\n",
       "  <thead>\n",
       "    <tr style=\"text-align: right;\">\n",
       "      <th></th>\n",
       "      <th>Technology</th>\n",
       "      <th>Office Supplies</th>\n",
       "      <th>Furniture</th>\n",
       "    </tr>\n",
       "  </thead>\n",
       "  <tbody>\n",
       "    <tr>\n",
       "      <th>Technology</th>\n",
       "      <td>323</td>\n",
       "      <td>72</td>\n",
       "      <td>54</td>\n",
       "    </tr>\n",
       "    <tr>\n",
       "      <th>Office Supplies</th>\n",
       "      <td>288</td>\n",
       "      <td>1059</td>\n",
       "      <td>157</td>\n",
       "    </tr>\n",
       "    <tr>\n",
       "      <th>Furniture</th>\n",
       "      <td>144</td>\n",
       "      <td>90</td>\n",
       "      <td>312</td>\n",
       "    </tr>\n",
       "  </tbody>\n",
       "</table>\n",
       "</div>"
      ],
      "text/plain": [
       "                 Technology  Office Supplies  Furniture\n",
       "Technology              323               72         54\n",
       "Office Supplies         288             1059        157\n",
       "Furniture               144               90        312"
      ]
     },
     "metadata": {},
     "output_type": "display_data"
    }
   ],
   "source": [
    "clf = DecisionTreeClassifier(max_depth = 13, criterion = 'gini', random_state=0, class_weight = 'balanced')\n",
    "clf.fit(X_train,Y_train)\n",
    "display(clf.fit)\n",
    "y_pred = clf.predict(X_test)\n",
    "display(y_pred)\n",
    "print(\"Accuracy is\")\n",
    "accuracy = accuracy_score(Y_test, y_pred)\n",
    "display(accuracy)\n",
    "print(\"Error rate is\")\n",
    "display(1-accuracy)\n",
    "cm = confusion_matrix(Y_test, y_pred, labels = [\"Technology\", \"Office Supplies\", \"Furniture\"])\n",
    "cm_df = pd.DataFrame(cm, columns = [\"Technology\", \"Office Supplies\", \"Furniture\"], index = [\"Technology\", \"Office Supplies\", \"Furniture\"])\n",
    "display(cm_df)"
   ]
  },
  {
   "cell_type": "markdown",
   "metadata": {},
   "source": [
    "# KNN "
   ]
  },
  {
   "cell_type": "code",
   "execution_count": 157,
   "metadata": {},
   "outputs": [
    {
     "name": "stdout",
     "output_type": "stream",
     "text": [
      "k-value: 1\n"
     ]
    },
    {
     "data": {
      "text/plain": [
       "array(['Office Supplies', 'Office Supplies', 'Office Supplies', ...,\n",
       "       'Office Supplies', 'Office Supplies', 'Technology'], dtype=object)"
      ]
     },
     "metadata": {},
     "output_type": "display_data"
    },
    {
     "name": "stdout",
     "output_type": "stream",
     "text": [
      "Accuracy is\n"
     ]
    },
    {
     "data": {
      "text/plain": [
       "0.7579031612645059"
      ]
     },
     "metadata": {},
     "output_type": "display_data"
    },
    {
     "name": "stdout",
     "output_type": "stream",
     "text": [
      "Error rate is\n"
     ]
    },
    {
     "data": {
      "text/plain": [
       "0.24209683873549415"
      ]
     },
     "metadata": {},
     "output_type": "display_data"
    },
    {
     "data": {
      "text/html": [
       "<div>\n",
       "<style scoped>\n",
       "    .dataframe tbody tr th:only-of-type {\n",
       "        vertical-align: middle;\n",
       "    }\n",
       "\n",
       "    .dataframe tbody tr th {\n",
       "        vertical-align: top;\n",
       "    }\n",
       "\n",
       "    .dataframe thead th {\n",
       "        text-align: right;\n",
       "    }\n",
       "</style>\n",
       "<table border=\"1\" class=\"dataframe\">\n",
       "  <thead>\n",
       "    <tr style=\"text-align: right;\">\n",
       "      <th></th>\n",
       "      <th>Technology</th>\n",
       "      <th>Office Supplies</th>\n",
       "      <th>Furniture</th>\n",
       "    </tr>\n",
       "  </thead>\n",
       "  <tbody>\n",
       "    <tr>\n",
       "      <th>Technology</th>\n",
       "      <td>265</td>\n",
       "      <td>126</td>\n",
       "      <td>58</td>\n",
       "    </tr>\n",
       "    <tr>\n",
       "      <th>Office Supplies</th>\n",
       "      <td>129</td>\n",
       "      <td>1282</td>\n",
       "      <td>93</td>\n",
       "    </tr>\n",
       "    <tr>\n",
       "      <th>Furniture</th>\n",
       "      <td>84</td>\n",
       "      <td>115</td>\n",
       "      <td>347</td>\n",
       "    </tr>\n",
       "  </tbody>\n",
       "</table>\n",
       "</div>"
      ],
      "text/plain": [
       "                 Technology  Office Supplies  Furniture\n",
       "Technology              265              126         58\n",
       "Office Supplies         129             1282         93\n",
       "Furniture                84              115        347"
      ]
     },
     "metadata": {},
     "output_type": "display_data"
    }
   ],
   "source": [
    "results = pd.DataFrame(columns=['K-Value', 'Testing Accuracy'])\n",
    "\n",
    "for kvalue in range (1,151):\n",
    "    knc = KNeighborsClassifier(n_neighbors=kvalue, metric='euclidean')\n",
    "    #fits the training data to the model\n",
    "    knc.fit(X_train, Y_train)\n",
    "    #makes predictions based on X data\n",
    "    target_pred = knc.predict(X_test)\n",
    "    #stores results in a dataframe\n",
    "    results.loc[kvalue] = [kvalue, accuracy_score(Y_test, target_pred)]\n",
    "kvalue = int(results.loc[results['Testing Accuracy'].idxmax()]['K-Value'])\n",
    "print('k-value: '+str(kvalue))\n",
    "knc = KNeighborsClassifier(n_neighbors=kvalue, metric='euclidean')\n",
    "knc.fit(X_train, Y_train)\n",
    "y_pred = knc.predict(X_test)\n",
    "display(y_pred)\n",
    "print(\"Accuracy is\")\n",
    "accuracy = accuracy_score(Y_test, y_pred)\n",
    "display(accuracy)\n",
    "print(\"Error rate is\")\n",
    "display(1-accuracy)\n",
    "cm = confusion_matrix(Y_test, y_pred, labels = [\"Technology\", \"Office Supplies\", \"Furniture\"])\n",
    "cm_df = pd.DataFrame(cm, columns = [\"Technology\", \"Office Supplies\", \"Furniture\"], index = [\"Technology\", \"Office Supplies\", \"Furniture\"])\n",
    "display(cm_df)"
   ]
  },
  {
   "cell_type": "markdown",
   "metadata": {},
   "source": [
    "# Gaussian Naive Bayes"
   ]
  },
  {
   "cell_type": "code",
   "execution_count": 158,
   "metadata": {},
   "outputs": [
    {
     "name": "stdout",
     "output_type": "stream",
     "text": [
      "Accuracy score: 0.6186474589835934\n"
     ]
    }
   ],
   "source": [
    "gaus = GaussianNB()\n",
    "gaus.fit(X_train,Y_train)\n",
    "target_pred = gaus.predict(X_test)\n",
    "print(\"Accuracy score: \"+str(accuracy_score(Y_test,target_pred)))\n"
   ]
  }
 ],
 "metadata": {
  "kernelspec": {
   "display_name": "Python 3.9.12 ('base')",
   "language": "python",
   "name": "python3"
  },
  "language_info": {
   "codemirror_mode": {
    "name": "ipython",
    "version": 3
   },
   "file_extension": ".py",
   "mimetype": "text/x-python",
   "name": "python",
   "nbconvert_exporter": "python",
   "pygments_lexer": "ipython3",
   "version": "3.9.12"
  },
  "orig_nbformat": 4,
  "vscode": {
   "interpreter": {
    "hash": "c1213fe79188cb4b8d94db27c710f3e8593d91e79ee580f80f63d9b5f69ed409"
   }
  }
 },
 "nbformat": 4,
 "nbformat_minor": 2
}
