{
 "cells": [
  {
   "cell_type": "markdown",
   "metadata": {},
   "source": [
    "Data Modeling and Evaluation"
   ]
  },
  {
   "cell_type": "code",
   "execution_count": 1,
   "metadata": {},
   "outputs": [
    {
     "data": {
      "text/html": [
       "<div>\n",
       "<style scoped>\n",
       "    .dataframe tbody tr th:only-of-type {\n",
       "        vertical-align: middle;\n",
       "    }\n",
       "\n",
       "    .dataframe tbody tr th {\n",
       "        vertical-align: top;\n",
       "    }\n",
       "\n",
       "    .dataframe thead th {\n",
       "        text-align: right;\n",
       "    }\n",
       "</style>\n",
       "<table border=\"1\" class=\"dataframe\">\n",
       "  <thead>\n",
       "    <tr style=\"text-align: right;\">\n",
       "      <th></th>\n",
       "      <th>Order ID</th>\n",
       "      <th>Customer ID</th>\n",
       "      <th>Segment</th>\n",
       "      <th>City</th>\n",
       "      <th>State</th>\n",
       "      <th>Postal Code</th>\n",
       "      <th>Product ID</th>\n",
       "      <th>Category</th>\n",
       "      <th>Sub-Category</th>\n",
       "      <th>Product Name</th>\n",
       "      <th>Sales</th>\n",
       "      <th>Quantity</th>\n",
       "      <th>Discount</th>\n",
       "      <th>Profit</th>\n",
       "    </tr>\n",
       "    <tr>\n",
       "      <th>Row ID</th>\n",
       "      <th></th>\n",
       "      <th></th>\n",
       "      <th></th>\n",
       "      <th></th>\n",
       "      <th></th>\n",
       "      <th></th>\n",
       "      <th></th>\n",
       "      <th></th>\n",
       "      <th></th>\n",
       "      <th></th>\n",
       "      <th></th>\n",
       "      <th></th>\n",
       "      <th></th>\n",
       "      <th></th>\n",
       "    </tr>\n",
       "  </thead>\n",
       "  <tbody>\n",
       "    <tr>\n",
       "      <th>1</th>\n",
       "      <td>CA-2016-152156</td>\n",
       "      <td>CG-12520</td>\n",
       "      <td>Consumer</td>\n",
       "      <td>Henderson</td>\n",
       "      <td>Kentucky</td>\n",
       "      <td>42420</td>\n",
       "      <td>FUR-BO-10001798</td>\n",
       "      <td>Furniture</td>\n",
       "      <td>Bookcases</td>\n",
       "      <td>Bush Somerset Collection Bookcase</td>\n",
       "      <td>0.177190</td>\n",
       "      <td>0.138125</td>\n",
       "      <td>0.000000</td>\n",
       "      <td>0.514147</td>\n",
       "    </tr>\n",
       "    <tr>\n",
       "      <th>2</th>\n",
       "      <td>CA-2016-152156</td>\n",
       "      <td>CG-12520</td>\n",
       "      <td>Consumer</td>\n",
       "      <td>Henderson</td>\n",
       "      <td>Kentucky</td>\n",
       "      <td>42420</td>\n",
       "      <td>FUR-CH-10000454</td>\n",
       "      <td>Furniture</td>\n",
       "      <td>Chairs</td>\n",
       "      <td>Hon Deluxe Fabric Upholstered Stacking Chairs,...</td>\n",
       "      <td>0.495626</td>\n",
       "      <td>0.276251</td>\n",
       "      <td>0.000000</td>\n",
       "      <td>0.703753</td>\n",
       "    </tr>\n",
       "    <tr>\n",
       "      <th>3</th>\n",
       "      <td>CA-2016-138688</td>\n",
       "      <td>DV-13045</td>\n",
       "      <td>Corporate</td>\n",
       "      <td>Los Angeles</td>\n",
       "      <td>California</td>\n",
       "      <td>90036</td>\n",
       "      <td>OFF-LA-10000240</td>\n",
       "      <td>Office Supplies</td>\n",
       "      <td>Labels</td>\n",
       "      <td>Self-Adhesive Address Labels for Typewriters b...</td>\n",
       "      <td>0.009605</td>\n",
       "      <td>0.138125</td>\n",
       "      <td>0.000000</td>\n",
       "      <td>0.476751</td>\n",
       "    </tr>\n",
       "    <tr>\n",
       "      <th>4</th>\n",
       "      <td>US-2015-108966</td>\n",
       "      <td>SO-20335</td>\n",
       "      <td>Consumer</td>\n",
       "      <td>Fort Lauderdale</td>\n",
       "      <td>Florida</td>\n",
       "      <td>33311</td>\n",
       "      <td>FUR-TA-10000577</td>\n",
       "      <td>Furniture</td>\n",
       "      <td>Tables</td>\n",
       "      <td>Bretford CR4500 Series Slim Rectangular Table</td>\n",
       "      <td>0.648507</td>\n",
       "      <td>0.552502</td>\n",
       "      <td>0.790713</td>\n",
       "      <td>0.060651</td>\n",
       "    </tr>\n",
       "    <tr>\n",
       "      <th>5</th>\n",
       "      <td>US-2015-108966</td>\n",
       "      <td>SO-20335</td>\n",
       "      <td>Consumer</td>\n",
       "      <td>Fort Lauderdale</td>\n",
       "      <td>Florida</td>\n",
       "      <td>33311</td>\n",
       "      <td>OFF-ST-10000760</td>\n",
       "      <td>Office Supplies</td>\n",
       "      <td>Storage</td>\n",
       "      <td>Eldon Fold 'N Roll Cart System</td>\n",
       "      <td>0.014855</td>\n",
       "      <td>0.138125</td>\n",
       "      <td>0.351428</td>\n",
       "      <td>0.472103</td>\n",
       "    </tr>\n",
       "  </tbody>\n",
       "</table>\n",
       "</div>"
      ],
      "text/plain": [
       "              Order ID Customer ID    Segment             City       State  \\\n",
       "Row ID                                                                       \n",
       "1       CA-2016-152156    CG-12520   Consumer        Henderson    Kentucky   \n",
       "2       CA-2016-152156    CG-12520   Consumer        Henderson    Kentucky   \n",
       "3       CA-2016-138688    DV-13045  Corporate      Los Angeles  California   \n",
       "4       US-2015-108966    SO-20335   Consumer  Fort Lauderdale     Florida   \n",
       "5       US-2015-108966    SO-20335   Consumer  Fort Lauderdale     Florida   \n",
       "\n",
       "        Postal Code       Product ID         Category Sub-Category  \\\n",
       "Row ID                                                               \n",
       "1             42420  FUR-BO-10001798        Furniture    Bookcases   \n",
       "2             42420  FUR-CH-10000454        Furniture       Chairs   \n",
       "3             90036  OFF-LA-10000240  Office Supplies       Labels   \n",
       "4             33311  FUR-TA-10000577        Furniture       Tables   \n",
       "5             33311  OFF-ST-10000760  Office Supplies      Storage   \n",
       "\n",
       "                                             Product Name     Sales  Quantity  \\\n",
       "Row ID                                                                          \n",
       "1                       Bush Somerset Collection Bookcase  0.177190  0.138125   \n",
       "2       Hon Deluxe Fabric Upholstered Stacking Chairs,...  0.495626  0.276251   \n",
       "3       Self-Adhesive Address Labels for Typewriters b...  0.009605  0.138125   \n",
       "4           Bretford CR4500 Series Slim Rectangular Table  0.648507  0.552502   \n",
       "5                          Eldon Fold 'N Roll Cart System  0.014855  0.138125   \n",
       "\n",
       "        Discount    Profit  \n",
       "Row ID                      \n",
       "1       0.000000  0.514147  \n",
       "2       0.000000  0.703753  \n",
       "3       0.000000  0.476751  \n",
       "4       0.790713  0.060651  \n",
       "5       0.351428  0.472103  "
      ]
     },
     "execution_count": 1,
     "metadata": {},
     "output_type": "execute_result"
    }
   ],
   "source": [
    "import pandas as pd\n",
    "import numpy as np\n",
    "import matplotlib.pyplot as plt\n",
    "\n",
    "desc_features = ['Sales', 'Quantity', 'Discount', 'Profit']\n",
    "target_feature = 'Category'\n",
    "cat_features = ['Order ID', 'Customer ID', 'Segment', 'City', 'State', 'Postal Code', 'Product ID', 'Sub-Category', 'Product Name']\n",
    "target_levels = []\n",
    "col = pd.read_excel('DataPostProcess.xlsx', nrows=0).columns\n",
    "df = pd.read_excel('DataPostProcess.xlsx', names = col, index_col='Row ID')\n",
    "df.head()\n"
   ]
  },
  {
   "cell_type": "markdown",
   "metadata": {},
   "source": [
    "Testing and Training"
   ]
  },
  {
   "cell_type": "code",
   "execution_count": 2,
   "metadata": {},
   "outputs": [
    {
     "data": {
      "text/html": [
       "<div>\n",
       "<style scoped>\n",
       "    .dataframe tbody tr th:only-of-type {\n",
       "        vertical-align: middle;\n",
       "    }\n",
       "\n",
       "    .dataframe tbody tr th {\n",
       "        vertical-align: top;\n",
       "    }\n",
       "\n",
       "    .dataframe thead th {\n",
       "        text-align: right;\n",
       "    }\n",
       "</style>\n",
       "<table border=\"1\" class=\"dataframe\">\n",
       "  <thead>\n",
       "    <tr style=\"text-align: right;\">\n",
       "      <th></th>\n",
       "      <th>Sales</th>\n",
       "      <th>Quantity</th>\n",
       "      <th>Discount</th>\n",
       "      <th>Profit</th>\n",
       "    </tr>\n",
       "    <tr>\n",
       "      <th>Row ID</th>\n",
       "      <th></th>\n",
       "      <th></th>\n",
       "      <th></th>\n",
       "      <th></th>\n",
       "    </tr>\n",
       "  </thead>\n",
       "  <tbody>\n",
       "    <tr>\n",
       "      <th>5563</th>\n",
       "      <td>1.000000</td>\n",
       "      <td>0.552502</td>\n",
       "      <td>0.000000</td>\n",
       "      <td>1.000000</td>\n",
       "    </tr>\n",
       "    <tr>\n",
       "      <th>6434</th>\n",
       "      <td>0.015635</td>\n",
       "      <td>0.552502</td>\n",
       "      <td>0.351428</td>\n",
       "      <td>0.478517</td>\n",
       "    </tr>\n",
       "    <tr>\n",
       "      <th>3460</th>\n",
       "      <td>0.364353</td>\n",
       "      <td>0.138125</td>\n",
       "      <td>1.000000</td>\n",
       "      <td>0.029079</td>\n",
       "    </tr>\n",
       "    <tr>\n",
       "      <th>8031</th>\n",
       "      <td>0.015334</td>\n",
       "      <td>0.276251</td>\n",
       "      <td>1.000000</td>\n",
       "      <td>0.457720</td>\n",
       "    </tr>\n",
       "    <tr>\n",
       "      <th>8899</th>\n",
       "      <td>0.335066</td>\n",
       "      <td>0.276251</td>\n",
       "      <td>0.000000</td>\n",
       "      <td>0.627886</td>\n",
       "    </tr>\n",
       "    <tr>\n",
       "      <th>...</th>\n",
       "      <td>...</td>\n",
       "      <td>...</td>\n",
       "      <td>...</td>\n",
       "      <td>...</td>\n",
       "    </tr>\n",
       "    <tr>\n",
       "      <th>1247</th>\n",
       "      <td>1.000000</td>\n",
       "      <td>1.000000</td>\n",
       "      <td>0.351428</td>\n",
       "      <td>0.613922</td>\n",
       "    </tr>\n",
       "    <tr>\n",
       "      <th>9525</th>\n",
       "      <td>0.056559</td>\n",
       "      <td>0.552502</td>\n",
       "      <td>0.351428</td>\n",
       "      <td>0.500763</td>\n",
       "    </tr>\n",
       "    <tr>\n",
       "      <th>9867</th>\n",
       "      <td>0.735126</td>\n",
       "      <td>0.828753</td>\n",
       "      <td>0.000000</td>\n",
       "      <td>0.770588</td>\n",
       "    </tr>\n",
       "    <tr>\n",
       "      <th>8996</th>\n",
       "      <td>0.102849</td>\n",
       "      <td>0.552502</td>\n",
       "      <td>0.351428</td>\n",
       "      <td>0.487695</td>\n",
       "    </tr>\n",
       "    <tr>\n",
       "      <th>8449</th>\n",
       "      <td>0.431906</td>\n",
       "      <td>0.276251</td>\n",
       "      <td>0.527142</td>\n",
       "      <td>0.333266</td>\n",
       "    </tr>\n",
       "  </tbody>\n",
       "</table>\n",
       "<p>7495 rows × 4 columns</p>\n",
       "</div>"
      ],
      "text/plain": [
       "           Sales  Quantity  Discount    Profit\n",
       "Row ID                                        \n",
       "5563    1.000000  0.552502  0.000000  1.000000\n",
       "6434    0.015635  0.552502  0.351428  0.478517\n",
       "3460    0.364353  0.138125  1.000000  0.029079\n",
       "8031    0.015334  0.276251  1.000000  0.457720\n",
       "8899    0.335066  0.276251  0.000000  0.627886\n",
       "...          ...       ...       ...       ...\n",
       "1247    1.000000  1.000000  0.351428  0.613922\n",
       "9525    0.056559  0.552502  0.351428  0.500763\n",
       "9867    0.735126  0.828753  0.000000  0.770588\n",
       "8996    0.102849  0.552502  0.351428  0.487695\n",
       "8449    0.431906  0.276251  0.527142  0.333266\n",
       "\n",
       "[7495 rows x 4 columns]"
      ]
     },
     "metadata": {},
     "output_type": "display_data"
    },
    {
     "data": {
      "text/html": [
       "<div>\n",
       "<style scoped>\n",
       "    .dataframe tbody tr th:only-of-type {\n",
       "        vertical-align: middle;\n",
       "    }\n",
       "\n",
       "    .dataframe tbody tr th {\n",
       "        vertical-align: top;\n",
       "    }\n",
       "\n",
       "    .dataframe thead th {\n",
       "        text-align: right;\n",
       "    }\n",
       "</style>\n",
       "<table border=\"1\" class=\"dataframe\">\n",
       "  <thead>\n",
       "    <tr style=\"text-align: right;\">\n",
       "      <th></th>\n",
       "      <th>Sales</th>\n",
       "      <th>Quantity</th>\n",
       "      <th>Discount</th>\n",
       "      <th>Profit</th>\n",
       "    </tr>\n",
       "    <tr>\n",
       "      <th>Row ID</th>\n",
       "      <th></th>\n",
       "      <th></th>\n",
       "      <th></th>\n",
       "      <th></th>\n",
       "    </tr>\n",
       "  </thead>\n",
       "  <tbody>\n",
       "    <tr>\n",
       "      <th>3409</th>\n",
       "      <td>0.014833</td>\n",
       "      <td>0.414376</td>\n",
       "      <td>0.351428</td>\n",
       "      <td>0.477761</td>\n",
       "    </tr>\n",
       "    <tr>\n",
       "      <th>1517</th>\n",
       "      <td>1.000000</td>\n",
       "      <td>0.414376</td>\n",
       "      <td>0.000000</td>\n",
       "      <td>0.594142</td>\n",
       "    </tr>\n",
       "    <tr>\n",
       "      <th>1591</th>\n",
       "      <td>0.022389</td>\n",
       "      <td>0.828753</td>\n",
       "      <td>0.351428</td>\n",
       "      <td>0.475672</td>\n",
       "    </tr>\n",
       "    <tr>\n",
       "      <th>5754</th>\n",
       "      <td>0.586729</td>\n",
       "      <td>0.414376</td>\n",
       "      <td>0.000000</td>\n",
       "      <td>0.709817</td>\n",
       "    </tr>\n",
       "    <tr>\n",
       "      <th>6241</th>\n",
       "      <td>0.007656</td>\n",
       "      <td>0.000000</td>\n",
       "      <td>0.351428</td>\n",
       "      <td>0.473491</td>\n",
       "    </tr>\n",
       "    <tr>\n",
       "      <th>...</th>\n",
       "      <td>...</td>\n",
       "      <td>...</td>\n",
       "      <td>...</td>\n",
       "      <td>...</td>\n",
       "    </tr>\n",
       "    <tr>\n",
       "      <th>9796</th>\n",
       "      <td>0.002273</td>\n",
       "      <td>0.276251</td>\n",
       "      <td>1.000000</td>\n",
       "      <td>0.463135</td>\n",
       "    </tr>\n",
       "    <tr>\n",
       "      <th>9604</th>\n",
       "      <td>0.255045</td>\n",
       "      <td>0.276251</td>\n",
       "      <td>0.702856</td>\n",
       "      <td>0.241511</td>\n",
       "    </tr>\n",
       "    <tr>\n",
       "      <th>9642</th>\n",
       "      <td>0.138529</td>\n",
       "      <td>0.552502</td>\n",
       "      <td>0.000000</td>\n",
       "      <td>0.469418</td>\n",
       "    </tr>\n",
       "    <tr>\n",
       "      <th>170</th>\n",
       "      <td>0.120290</td>\n",
       "      <td>0.552502</td>\n",
       "      <td>1.000000</td>\n",
       "      <td>0.000000</td>\n",
       "    </tr>\n",
       "    <tr>\n",
       "      <th>3292</th>\n",
       "      <td>0.007613</td>\n",
       "      <td>0.138125</td>\n",
       "      <td>0.000000</td>\n",
       "      <td>0.473157</td>\n",
       "    </tr>\n",
       "  </tbody>\n",
       "</table>\n",
       "<p>2499 rows × 4 columns</p>\n",
       "</div>"
      ],
      "text/plain": [
       "           Sales  Quantity  Discount    Profit\n",
       "Row ID                                        \n",
       "3409    0.014833  0.414376  0.351428  0.477761\n",
       "1517    1.000000  0.414376  0.000000  0.594142\n",
       "1591    0.022389  0.828753  0.351428  0.475672\n",
       "5754    0.586729  0.414376  0.000000  0.709817\n",
       "6241    0.007656  0.000000  0.351428  0.473491\n",
       "...          ...       ...       ...       ...\n",
       "9796    0.002273  0.276251  1.000000  0.463135\n",
       "9604    0.255045  0.276251  0.702856  0.241511\n",
       "9642    0.138529  0.552502  0.000000  0.469418\n",
       "170     0.120290  0.552502  1.000000  0.000000\n",
       "3292    0.007613  0.138125  0.000000  0.473157\n",
       "\n",
       "[2499 rows x 4 columns]"
      ]
     },
     "metadata": {},
     "output_type": "display_data"
    },
    {
     "data": {
      "text/plain": [
       "Row ID\n",
       "5563         Technology\n",
       "6434    Office Supplies\n",
       "3460    Office Supplies\n",
       "8031          Furniture\n",
       "8899         Technology\n",
       "             ...       \n",
       "1247          Furniture\n",
       "9525    Office Supplies\n",
       "9867    Office Supplies\n",
       "8996    Office Supplies\n",
       "8449          Furniture\n",
       "Name: Category, Length: 7495, dtype: object"
      ]
     },
     "metadata": {},
     "output_type": "display_data"
    },
    {
     "data": {
      "text/plain": [
       "Row ID\n",
       "3409          Furniture\n",
       "1517          Furniture\n",
       "1591    Office Supplies\n",
       "5754          Furniture\n",
       "6241    Office Supplies\n",
       "             ...       \n",
       "9796    Office Supplies\n",
       "9604          Furniture\n",
       "9642    Office Supplies\n",
       "170     Office Supplies\n",
       "3292    Office Supplies\n",
       "Name: Category, Length: 2499, dtype: object"
      ]
     },
     "metadata": {},
     "output_type": "display_data"
    }
   ],
   "source": [
    "from sklearn.model_selection import train_test_split\n",
    "X_train, X_test, Y_train, Y_test = train_test_split(df[desc_features], df[target_feature], test_size=0.25)\n",
    "display(X_train, X_test, Y_train, Y_test)"
   ]
  },
  {
   "cell_type": "markdown",
   "metadata": {},
   "source": [
    "Determine if sampling is needed by seeing how much data is each class in our target feature."
   ]
  },
  {
   "cell_type": "code",
   "execution_count": 3,
   "metadata": {},
   "outputs": [
    {
     "data": {
      "text/html": [
       "<div>\n",
       "<style scoped>\n",
       "    .dataframe tbody tr th:only-of-type {\n",
       "        vertical-align: middle;\n",
       "    }\n",
       "\n",
       "    .dataframe tbody tr th {\n",
       "        vertical-align: top;\n",
       "    }\n",
       "\n",
       "    .dataframe thead th {\n",
       "        text-align: right;\n",
       "    }\n",
       "</style>\n",
       "<table border=\"1\" class=\"dataframe\">\n",
       "  <thead>\n",
       "    <tr style=\"text-align: right;\">\n",
       "      <th></th>\n",
       "      <th>Order ID</th>\n",
       "      <th>Customer ID</th>\n",
       "      <th>Segment</th>\n",
       "      <th>City</th>\n",
       "      <th>State</th>\n",
       "      <th>Postal Code</th>\n",
       "      <th>Product ID</th>\n",
       "      <th>Sub-Category</th>\n",
       "      <th>Product Name</th>\n",
       "      <th>Sales</th>\n",
       "      <th>Quantity</th>\n",
       "      <th>Discount</th>\n",
       "      <th>Profit</th>\n",
       "    </tr>\n",
       "    <tr>\n",
       "      <th>Category</th>\n",
       "      <th></th>\n",
       "      <th></th>\n",
       "      <th></th>\n",
       "      <th></th>\n",
       "      <th></th>\n",
       "      <th></th>\n",
       "      <th></th>\n",
       "      <th></th>\n",
       "      <th></th>\n",
       "      <th></th>\n",
       "      <th></th>\n",
       "      <th></th>\n",
       "      <th></th>\n",
       "    </tr>\n",
       "  </thead>\n",
       "  <tbody>\n",
       "    <tr>\n",
       "      <th>Furniture</th>\n",
       "      <td>2121</td>\n",
       "      <td>2121</td>\n",
       "      <td>2121</td>\n",
       "      <td>2121</td>\n",
       "      <td>2121</td>\n",
       "      <td>2121</td>\n",
       "      <td>2121</td>\n",
       "      <td>2121</td>\n",
       "      <td>2121</td>\n",
       "      <td>2121</td>\n",
       "      <td>2121</td>\n",
       "      <td>2121</td>\n",
       "      <td>2121</td>\n",
       "    </tr>\n",
       "    <tr>\n",
       "      <th>Office Supplies</th>\n",
       "      <td>6026</td>\n",
       "      <td>6026</td>\n",
       "      <td>6026</td>\n",
       "      <td>6026</td>\n",
       "      <td>6026</td>\n",
       "      <td>6026</td>\n",
       "      <td>6026</td>\n",
       "      <td>6026</td>\n",
       "      <td>6026</td>\n",
       "      <td>6026</td>\n",
       "      <td>6026</td>\n",
       "      <td>6026</td>\n",
       "      <td>6026</td>\n",
       "    </tr>\n",
       "    <tr>\n",
       "      <th>Technology</th>\n",
       "      <td>1847</td>\n",
       "      <td>1847</td>\n",
       "      <td>1847</td>\n",
       "      <td>1847</td>\n",
       "      <td>1847</td>\n",
       "      <td>1847</td>\n",
       "      <td>1847</td>\n",
       "      <td>1847</td>\n",
       "      <td>1847</td>\n",
       "      <td>1847</td>\n",
       "      <td>1847</td>\n",
       "      <td>1847</td>\n",
       "      <td>1847</td>\n",
       "    </tr>\n",
       "  </tbody>\n",
       "</table>\n",
       "</div>"
      ],
      "text/plain": [
       "                 Order ID  Customer ID  Segment  City  State  Postal Code  \\\n",
       "Category                                                                    \n",
       "Furniture            2121         2121     2121  2121   2121         2121   \n",
       "Office Supplies      6026         6026     6026  6026   6026         6026   \n",
       "Technology           1847         1847     1847  1847   1847         1847   \n",
       "\n",
       "                 Product ID  Sub-Category  Product Name  Sales  Quantity  \\\n",
       "Category                                                                   \n",
       "Furniture              2121          2121          2121   2121      2121   \n",
       "Office Supplies        6026          6026          6026   6026      6026   \n",
       "Technology             1847          1847          1847   1847      1847   \n",
       "\n",
       "                 Discount  Profit  \n",
       "Category                           \n",
       "Furniture            2121    2121  \n",
       "Office Supplies      6026    6026  \n",
       "Technology           1847    1847  "
      ]
     },
     "execution_count": 3,
     "metadata": {},
     "output_type": "execute_result"
    }
   ],
   "source": [
    "df.groupby('Category').count()"
   ]
  },
  {
   "cell_type": "markdown",
   "metadata": {},
   "source": [
    "As there is an uneven distribution in our dataset as Office Supplies are a majority we will be sampling with sklearns class_weight."
   ]
  },
  {
   "cell_type": "markdown",
   "metadata": {},
   "source": [
    "# Evaluation methods: \n",
    "- Information-Based Learning \n",
    "  - Decision Tree\n",
    "- Similarity-Based Learning\n",
    "  - Weighted KNN\n",
    "- Probability-Based Learning\n",
    "  - Guassian Naive Bayes"
   ]
  },
  {
   "cell_type": "code",
   "execution_count": 4,
   "metadata": {},
   "outputs": [],
   "source": [
    "from sklearn.tree import DecisionTreeClassifier\n",
    "from sklearn.neighbors import KNeighborsClassifier\n",
    "from sklearn.naive_bayes import GaussianNB\n",
    "from sklearn.metrics import accuracy_score\n",
    "from sklearn.metrics import confusion_matrix\n",
    "from sklearn.metrics import mean_squared_error, mean_absolute_error"
   ]
  },
  {
   "cell_type": "markdown",
   "metadata": {},
   "source": [
    "# Decision Tree\n",
    "Utilizing the gini criterion as it is computationally less expensive, and roughly the same accuracy as entropy."
   ]
  },
  {
   "cell_type": "code",
   "execution_count": 5,
   "metadata": {},
   "outputs": [
    {
     "data": {
      "text/plain": [
       "<bound method DecisionTreeClassifier.fit of DecisionTreeClassifier(class_weight='balanced', max_depth=13, random_state=0)>"
      ]
     },
     "metadata": {},
     "output_type": "display_data"
    },
    {
     "data": {
      "text/plain": [
       "array(['Office Supplies', 'Furniture', 'Technology', ...,\n",
       "       'Office Supplies', 'Office Supplies', 'Office Supplies'],\n",
       "      dtype=object)"
      ]
     },
     "metadata": {},
     "output_type": "display_data"
    },
    {
     "name": "stdout",
     "output_type": "stream",
     "text": [
      "Accuracy is\n"
     ]
    },
    {
     "data": {
      "text/plain": [
       "0.7030812324929971"
      ]
     },
     "metadata": {},
     "output_type": "display_data"
    },
    {
     "name": "stdout",
     "output_type": "stream",
     "text": [
      "Error rate is\n"
     ]
    },
    {
     "data": {
      "text/plain": [
       "0.29691876750700286"
      ]
     },
     "metadata": {},
     "output_type": "display_data"
    },
    {
     "data": {
      "text/html": [
       "<div>\n",
       "<style scoped>\n",
       "    .dataframe tbody tr th:only-of-type {\n",
       "        vertical-align: middle;\n",
       "    }\n",
       "\n",
       "    .dataframe tbody tr th {\n",
       "        vertical-align: top;\n",
       "    }\n",
       "\n",
       "    .dataframe thead th {\n",
       "        text-align: right;\n",
       "    }\n",
       "</style>\n",
       "<table border=\"1\" class=\"dataframe\">\n",
       "  <thead>\n",
       "    <tr style=\"text-align: right;\">\n",
       "      <th></th>\n",
       "      <th>Technology</th>\n",
       "      <th>Office Supplies</th>\n",
       "      <th>Furniture</th>\n",
       "    </tr>\n",
       "  </thead>\n",
       "  <tbody>\n",
       "    <tr>\n",
       "      <th>Technology</th>\n",
       "      <td>279</td>\n",
       "      <td>84</td>\n",
       "      <td>74</td>\n",
       "    </tr>\n",
       "    <tr>\n",
       "      <th>Office Supplies</th>\n",
       "      <td>205</td>\n",
       "      <td>1151</td>\n",
       "      <td>161</td>\n",
       "    </tr>\n",
       "    <tr>\n",
       "      <th>Furniture</th>\n",
       "      <td>97</td>\n",
       "      <td>121</td>\n",
       "      <td>327</td>\n",
       "    </tr>\n",
       "  </tbody>\n",
       "</table>\n",
       "</div>"
      ],
      "text/plain": [
       "                 Technology  Office Supplies  Furniture\n",
       "Technology              279               84         74\n",
       "Office Supplies         205             1151        161\n",
       "Furniture                97              121        327"
      ]
     },
     "metadata": {},
     "output_type": "display_data"
    }
   ],
   "source": [
    "clf = DecisionTreeClassifier(max_depth = 13, criterion = 'gini', random_state=0, class_weight = 'balanced')\n",
    "clf.fit(X_train,Y_train)\n",
    "display(clf.fit)\n",
    "y_pred = clf.predict(X_test)\n",
    "display(y_pred)\n",
    "print(\"Accuracy is\")\n",
    "accuracy = accuracy_score(Y_test, y_pred)\n",
    "display(accuracy)\n",
    "print(\"Error rate is\")\n",
    "display(1-accuracy)\n",
    "cm = confusion_matrix(Y_test, y_pred, labels = [\"Technology\", \"Office Supplies\", \"Furniture\"])\n",
    "cm_df = pd.DataFrame(cm, columns = [\"Technology\", \"Office Supplies\", \"Furniture\"], index = [\"Technology\", \"Office Supplies\", \"Furniture\"])\n",
    "display(cm_df)"
   ]
  },
  {
   "cell_type": "markdown",
   "metadata": {},
   "source": [
    "# KNN "
   ]
  },
  {
   "cell_type": "code",
   "execution_count": 6,
   "metadata": {},
   "outputs": [
    {
     "name": "stdout",
     "output_type": "stream",
     "text": [
      "k-value: 1\n"
     ]
    },
    {
     "data": {
      "text/plain": [
       "array(['Office Supplies', 'Furniture', 'Office Supplies', ...,\n",
       "       'Office Supplies', 'Office Supplies', 'Office Supplies'],\n",
       "      dtype=object)"
      ]
     },
     "metadata": {},
     "output_type": "display_data"
    },
    {
     "name": "stdout",
     "output_type": "stream",
     "text": [
      "Accuracy is\n"
     ]
    },
    {
     "data": {
      "text/plain": [
       "0.7735094037615046"
      ]
     },
     "metadata": {},
     "output_type": "display_data"
    },
    {
     "name": "stdout",
     "output_type": "stream",
     "text": [
      "Error rate is\n"
     ]
    },
    {
     "data": {
      "text/plain": [
       "0.22649059623849543"
      ]
     },
     "metadata": {},
     "output_type": "display_data"
    },
    {
     "data": {
      "text/html": [
       "<div>\n",
       "<style scoped>\n",
       "    .dataframe tbody tr th:only-of-type {\n",
       "        vertical-align: middle;\n",
       "    }\n",
       "\n",
       "    .dataframe tbody tr th {\n",
       "        vertical-align: top;\n",
       "    }\n",
       "\n",
       "    .dataframe thead th {\n",
       "        text-align: right;\n",
       "    }\n",
       "</style>\n",
       "<table border=\"1\" class=\"dataframe\">\n",
       "  <thead>\n",
       "    <tr style=\"text-align: right;\">\n",
       "      <th></th>\n",
       "      <th>Technology</th>\n",
       "      <th>Office Supplies</th>\n",
       "      <th>Furniture</th>\n",
       "    </tr>\n",
       "  </thead>\n",
       "  <tbody>\n",
       "    <tr>\n",
       "      <th>Technology</th>\n",
       "      <td>289</td>\n",
       "      <td>94</td>\n",
       "      <td>54</td>\n",
       "    </tr>\n",
       "    <tr>\n",
       "      <th>Office Supplies</th>\n",
       "      <td>102</td>\n",
       "      <td>1314</td>\n",
       "      <td>101</td>\n",
       "    </tr>\n",
       "    <tr>\n",
       "      <th>Furniture</th>\n",
       "      <td>75</td>\n",
       "      <td>140</td>\n",
       "      <td>330</td>\n",
       "    </tr>\n",
       "  </tbody>\n",
       "</table>\n",
       "</div>"
      ],
      "text/plain": [
       "                 Technology  Office Supplies  Furniture\n",
       "Technology              289               94         54\n",
       "Office Supplies         102             1314        101\n",
       "Furniture                75              140        330"
      ]
     },
     "metadata": {},
     "output_type": "display_data"
    }
   ],
   "source": [
    "results = pd.DataFrame(columns=['K-Value', 'Testing Accuracy'])\n",
    "\n",
    "for kvalue in range (1,151):\n",
    "    knc = KNeighborsClassifier(n_neighbors=kvalue, metric='euclidean')\n",
    "    #fits the training data to the model\n",
    "    knc.fit(X_train, Y_train)\n",
    "    #makes predictions based on X data\n",
    "    target_pred = knc.predict(X_test)\n",
    "    #stores results in a dataframe\n",
    "    results.loc[kvalue] = [kvalue, accuracy_score(Y_test, target_pred)]\n",
    "kvalue = int(results.loc[results['Testing Accuracy'].idxmax()]['K-Value'])\n",
    "print('k-value: '+str(kvalue))\n",
    "knc = KNeighborsClassifier(n_neighbors=kvalue, metric='euclidean')\n",
    "knc.fit(X_train, Y_train)\n",
    "y_pred = knc.predict(X_test)\n",
    "display(y_pred)\n",
    "print(\"Accuracy is\")\n",
    "accuracy = accuracy_score(Y_test, y_pred)\n",
    "display(accuracy)\n",
    "print(\"Error rate is\")\n",
    "display(1-accuracy)\n",
    "cm = confusion_matrix(Y_test, y_pred, labels = [\"Technology\", \"Office Supplies\", \"Furniture\"])\n",
    "cm_df = pd.DataFrame(cm, columns = [\"Technology\", \"Office Supplies\", \"Furniture\"], index = [\"Technology\", \"Office Supplies\", \"Furniture\"])\n",
    "display(cm_df)"
   ]
  },
  {
   "cell_type": "markdown",
   "metadata": {},
   "source": [
    "# Gaussian Naive Bayes"
   ]
  },
  {
   "cell_type": "code",
   "execution_count": 7,
   "metadata": {},
   "outputs": [
    {
     "data": {
      "text/plain": [
       "array(['Office Supplies', 'Technology', 'Office Supplies', ...,\n",
       "       'Office Supplies', 'Furniture', 'Office Supplies'], dtype='<U15')"
      ]
     },
     "metadata": {},
     "output_type": "display_data"
    },
    {
     "name": "stdout",
     "output_type": "stream",
     "text": [
      "Accuracy is\n"
     ]
    },
    {
     "data": {
      "text/plain": [
       "0.6282513005202081"
      ]
     },
     "metadata": {},
     "output_type": "display_data"
    },
    {
     "name": "stdout",
     "output_type": "stream",
     "text": [
      "Error rate is\n"
     ]
    },
    {
     "data": {
      "text/plain": [
       "0.37174869947979194"
      ]
     },
     "metadata": {},
     "output_type": "display_data"
    },
    {
     "data": {
      "text/html": [
       "<div>\n",
       "<style scoped>\n",
       "    .dataframe tbody tr th:only-of-type {\n",
       "        vertical-align: middle;\n",
       "    }\n",
       "\n",
       "    .dataframe tbody tr th {\n",
       "        vertical-align: top;\n",
       "    }\n",
       "\n",
       "    .dataframe thead th {\n",
       "        text-align: right;\n",
       "    }\n",
       "</style>\n",
       "<table border=\"1\" class=\"dataframe\">\n",
       "  <thead>\n",
       "    <tr style=\"text-align: right;\">\n",
       "      <th></th>\n",
       "      <th>Technology</th>\n",
       "      <th>Office Supplies</th>\n",
       "      <th>Furniture</th>\n",
       "    </tr>\n",
       "  </thead>\n",
       "  <tbody>\n",
       "    <tr>\n",
       "      <th>Technology</th>\n",
       "      <td>75</td>\n",
       "      <td>339</td>\n",
       "      <td>23</td>\n",
       "    </tr>\n",
       "    <tr>\n",
       "      <th>Office Supplies</th>\n",
       "      <td>56</td>\n",
       "      <td>1439</td>\n",
       "      <td>22</td>\n",
       "    </tr>\n",
       "    <tr>\n",
       "      <th>Furniture</th>\n",
       "      <td>57</td>\n",
       "      <td>432</td>\n",
       "      <td>56</td>\n",
       "    </tr>\n",
       "  </tbody>\n",
       "</table>\n",
       "</div>"
      ],
      "text/plain": [
       "                 Technology  Office Supplies  Furniture\n",
       "Technology               75              339         23\n",
       "Office Supplies          56             1439         22\n",
       "Furniture                57              432         56"
      ]
     },
     "metadata": {},
     "output_type": "display_data"
    }
   ],
   "source": [
    "gaus = GaussianNB()\n",
    "gaus.fit(X_train,Y_train)\n",
    "y_pred = gaus.predict(X_test)\n",
    "display(y_pred)\n",
    "print(\"Accuracy is\")\n",
    "accuracy = accuracy_score(Y_test, y_pred)\n",
    "display(accuracy)\n",
    "print(\"Error rate is\")\n",
    "display(1-accuracy)\n",
    "cm = confusion_matrix(Y_test, y_pred, labels = [\"Technology\", \"Office Supplies\", \"Furniture\"])\n",
    "cm_df = pd.DataFrame(cm, columns = [\"Technology\", \"Office Supplies\", \"Furniture\"], index = [\"Technology\", \"Office Supplies\", \"Furniture\"])\n",
    "display(cm_df)\n"
   ]
  }
 ],
 "metadata": {
  "kernelspec": {
   "display_name": "Python 3.10.8 64-bit (microsoft store)",
   "language": "python",
   "name": "python3"
  },
  "language_info": {
   "codemirror_mode": {
    "name": "ipython",
    "version": 3
   },
   "file_extension": ".py",
   "mimetype": "text/x-python",
   "name": "python",
   "nbconvert_exporter": "python",
   "pygments_lexer": "ipython3",
   "version": "3.10.8"
  },
  "orig_nbformat": 4,
  "vscode": {
   "interpreter": {
    "hash": "b910792b33fc27c51c38a81edd18e1f6f16f97ae55392ac374b6899470ee00c0"
   }
  }
 },
 "nbformat": 4,
 "nbformat_minor": 2
}
